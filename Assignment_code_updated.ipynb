{
 "cells": [
  {
   "cell_type": "markdown",
   "metadata": {
    "id": "RkCzGJ4Fj8gD"
   },
   "source": [
    "# **Data Science Interns - Assessment 1**"
   ]
  },
  {
   "cell_type": "markdown",
   "metadata": {
    "id": "RUn4o87sMFNX"
   },
   "source": [
    "\n",
    "### **Introduction**\n",
    "\n",
    "This Exams takes 4 hours.\n",
    "\n",
    "Follow the instructions given on how to answer every question.\n",
    "\n",
    "At the end of the exam Save your notebook, download and share the notebook in .ipynb formart to (dgitahi@safaricom.co.ke, lkangethe@safaricom.co.ke)\n",
    "\n",
    "NB: \n",
    "\n",
    "* To save the notebook: go to File< Save a Copy on Drive\n",
    "\n",
    "* To download: go to File< Download < Download.ipynb \n",
    "\n",
    "You are expected to share the notebook within 30 minutes after the Exam\n",
    "\n",
    "\n",
    "#### **All the Best Good People**\n"
   ]
  },
  {
   "cell_type": "markdown",
   "metadata": {
    "id": "GBjxLKcMVeZP"
   },
   "source": [
    "#### **Load DataSet**\n",
    "Load the Data from the your drive\n",
    "\n"
   ]
  },
  {
   "cell_type": "code",
   "execution_count": 29,
   "metadata": {
    "id": "7S3PPOGiRQpi"
   },
   "outputs": [],
   "source": [
    "import pandas as pd\n",
    "import numpy as np\n",
    "import seaborn as sns\n",
    "import matplotlib.pyplot as plt\n",
    "import warnings\n",
    "warnings.filterwarnings('ignore')\n",
    "\n",
    "\n",
    "df_train = pd.read_csv('drive/MyDrive/train_df.csv')\n",
    "df_test = pd.read_csv('drive/MyDrive/test_df.csv')\n",
    "\n"
   ]
  },
  {
   "cell_type": "markdown",
   "metadata": {
    "id": "dmABKp5zRRGV"
   },
   "source": [
    "**Check the structure of the data and the size of the data**\n",
    "\n",
    "\n",
    "Hint: Variable types,shape of the data"
   ]
  },
  {
   "cell_type": "code",
   "execution_count": 30,
   "metadata": {
    "colab": {
     "base_uri": "https://localhost:8080/"
    },
    "id": "hfacGPsxVna7",
    "outputId": "6acfa5b9-6cd0-48aa-d108-d82b86640391"
   },
   "outputs": [
    {
     "name": "stdout",
     "output_type": "stream",
     "text": [
      "(100800, 12)\n",
      "MSISDN has variables of type object\n",
      "var1m0 has variables of type float64\n",
      "var2m0 has variables of type float64\n",
      "var2m1 has variables of type float64\n",
      "var2m2 has variables of type float64\n",
      "var3m0 has variables of type float64\n",
      "var3m1 has variables of type float64\n",
      "var3m2 has variables of type float64\n",
      "var4m0 has variables of type float64\n",
      "var4m1 has variables of type float64\n",
      "var4m2 has variables of type float64\n",
      "churn has variables of type int64\n"
     ]
    }
   ],
   "source": [
    "print(df_train.shape)\n",
    "for col in df_train:\n",
    "  print(col + ' has variables of type ' + str(df_train[col].dtype))"
   ]
  },
  {
   "cell_type": "markdown",
   "metadata": {
    "id": "cILTtWGZLyO4"
   },
   "source": [
    "The structure of the training dataframe is 12 columns and 100800 rows"
   ]
  },
  {
   "cell_type": "markdown",
   "metadata": {
    "id": "PclVA4_MV6ZL"
   },
   "source": [
    "#### **Check for the Missing Numbers**\n",
    "If there is any give a recommendation whether to impute for the missing value and the appropriate method.\n"
   ]
  },
  {
   "cell_type": "code",
   "execution_count": 31,
   "metadata": {
    "colab": {
     "base_uri": "https://localhost:8080/"
    },
    "id": "wEMMynHhCUow",
    "outputId": "23cb0593-d65a-41d7-ea20-03480633da2a"
   },
   "outputs": [
    {
     "name": "stdout",
     "output_type": "stream",
     "text": [
      "MSISDN    0.000000\n",
      "var1m0    0.053353\n",
      "var2m0    0.389891\n",
      "var2m1    0.362589\n",
      "var2m2    0.333492\n",
      "var3m0    0.053353\n",
      "var3m1    0.053353\n",
      "var3m2    0.053353\n",
      "var4m0    0.389891\n",
      "var4m1    0.362589\n",
      "var4m2    0.333492\n",
      "churn     0.000000\n",
      "dtype: float64\n"
     ]
    }
   ],
   "source": [
    "# First check the percentage of missing varibles in each column\n",
    "print(df_train.isnull().sum()/df_train.shape[0])\n"
   ]
  },
  {
   "cell_type": "markdown",
   "metadata": {
    "id": "hMg1HiBKHv7l"
   },
   "source": [
    "All the independent variables have missing values but, in all cases, it's a minority. There is therefore no variable that should be dropped  on the basis of missing values"
   ]
  },
  {
   "cell_type": "code",
   "execution_count": 32,
   "metadata": {
    "colab": {
     "base_uri": "https://localhost:8080/"
    },
    "id": "Hr3-p4UqIL2O",
    "outputId": "d61d457a-eb39-45c1-c923-9b4728d076db"
   },
   "outputs": [
    {
     "name": "stdout",
     "output_type": "stream",
     "text": [
      "0.5022619047619048 of rows would be dropped \n",
      "\n",
      "The churn distribution of customers on original dataset:\n",
      "0    73316\n",
      "1    27484\n",
      "Name: churn, dtype: int64\n",
      "\n",
      "The churn distribution of customers on the dataset with rows dropped:\n",
      "0    48896\n",
      "1     1276\n",
      "Name: churn, dtype: int64\n"
     ]
    }
   ],
   "source": [
    "# Check what the training dataset would look like if all rows with any missing values were dropped\n",
    "df_train_with_rows_dropped = df_train.dropna()\n",
    "print('%s of rows would be dropped \\n' % (1-df_train_with_rows_dropped.shape[0]/df_train.shape[0]))\n",
    "print('The churn distribution of customers on original dataset:')\n",
    "print(df_train['churn'].value_counts())\n",
    "print('\\nThe churn distribution of customers on the dataset with rows dropped:')\n",
    "print(df_train_with_rows_dropped['churn'].value_counts())\n"
   ]
  },
  {
   "cell_type": "markdown",
   "metadata": {
    "id": "aPCz6WYZLezl"
   },
   "source": [
    "If rows with any missing values are dropped, about half the rows would be removed. Additionally, there would be only 1276 customers who churned down from 27484 in original dataset. This is a lot of information loss as churned customers would then be 2.5% of dataset as opposed to 27% in original, therefore missing values may be better off being imputed using the medians but before this, the rows which have missing values on all the independent variables should be removed as imputing them will increase model inaccuracy"
   ]
  },
  {
   "cell_type": "code",
   "execution_count": 33,
   "metadata": {
    "colab": {
     "base_uri": "https://localhost:8080/"
    },
    "id": "bplsmRO7M9wK",
    "outputId": "11fd30fe-f4c9-4ffd-97f0-364e215cb3db"
   },
   "outputs": [
    {
     "name": "stdout",
     "output_type": "stream",
     "text": [
      "0     50172\n",
      "6     17422\n",
      "2     14590\n",
      "4     13238\n",
      "10     5378\n",
      "Name: number_of_missing_variables, dtype: int64\n"
     ]
    }
   ],
   "source": [
    "nummissing = list(df_train.T.isnull().sum())\n",
    "df_train['number_of_missing_variables'] = nummissing\n",
    "\n",
    "print(df_train['number_of_missing_variables'].value_counts())\n"
   ]
  },
  {
   "cell_type": "markdown",
   "metadata": {
    "id": "3fojh3kQO8KJ"
   },
   "source": [
    "From an earlier cell, it has been seen that 'churn' and 'MSISDN' have no missing values hence all missing values are on the independent variables. There are 10 independent variables and 5378 customers have no information on any of these variables and should be dropped"
   ]
  },
  {
   "cell_type": "code",
   "execution_count": 34,
   "metadata": {
    "colab": {
     "base_uri": "https://localhost:8080/"
    },
    "id": "HEsZzRYXPx8O",
    "outputId": "18a45f2f-a267-4934-fc07-78caee402ac5"
   },
   "outputs": [
    {
     "name": "stdout",
     "output_type": "stream",
     "text": [
      "(95422, 12)\n"
     ]
    }
   ],
   "source": [
    "df_train = df_train.loc[df_train['number_of_missing_variables'] < 10]\n",
    "df_train.drop('number_of_missing_variables', axis = 1, inplace = True)\n",
    "print(df_train.shape)"
   ]
  },
  {
   "cell_type": "code",
   "execution_count": 35,
   "metadata": {
    "id": "goCRDDyzNqz4"
   },
   "outputs": [],
   "source": [
    "\n",
    "skips = ['MSISDN', 'churn']\n",
    "for col in df_train:\n",
    "    if(col in skips):\n",
    "        continue        \n",
    "    df_train[col].fillna(df_train[col].median(), inplace= True)\n",
    "    df_test[col].fillna(df_test[col].median(), inplace= True)\n",
    "\n"
   ]
  },
  {
   "cell_type": "markdown",
   "metadata": {
    "id": "Y7oIqk8QHUZe"
   },
   "source": []
  },
  {
   "cell_type": "markdown",
   "metadata": {
    "id": "kOKS-GbwV5C1"
   },
   "source": [
    "#### **Check for Duplicates**\n",
    "If any drop the duplicates."
   ]
  },
  {
   "cell_type": "code",
   "execution_count": 36,
   "metadata": {
    "colab": {
     "base_uri": "https://localhost:8080/"
    },
    "id": "t3iotrMzWr3A",
    "outputId": "6b95159f-cf6e-4bec-c6cb-7fd94d8b4cf6"
   },
   "outputs": [
    {
     "name": "stdout",
     "output_type": "stream",
     "text": [
      "There were 36 duplicates in train dataset\n"
     ]
    }
   ],
   "source": [
    "trainlengthbefore = df_train.shape[0]\n",
    "df_train.drop_duplicates(inplace = True)\n",
    "trainlengthafter = df_train.shape[0]\n",
    "\n",
    "df_test.drop_duplicates(inplace= True)\n",
    "print('There were %s duplicates in train dataset' % (trainlengthbefore - trainlengthafter))\n"
   ]
  },
  {
   "cell_type": "markdown",
   "metadata": {
    "id": "psiwYTJ8WuVt"
   },
   "source": [
    "#### **Check for Outliers**\n",
    "Hint: Use the appropriate plots, and explain the results.\n",
    "\n",
    "If need be treat the outliers."
   ]
  },
  {
   "cell_type": "markdown",
   "metadata": {
    "id": "NAYZY5VrQ1jt"
   },
   "source": [
    "Outliers taken to be values that are more than 3 standard deviations from the the means in each variable. Customers with these values may be dropped "
   ]
  },
  {
   "cell_type": "code",
   "execution_count": 37,
   "metadata": {
    "colab": {
     "base_uri": "https://localhost:8080/",
     "height": 1000
    },
    "id": "xciz2XcjQqU-",
    "outputId": "eba6f466-aaaa-4410-b05a-541b097d876e"
   },
   "outputs": [
    {
     "name": "stdout",
     "output_type": "stream",
     "text": [
      "\n",
      "\n",
      "var1m0\n"
     ]
    },
    {
     "data": {
      "image/png": "[encoded data removed]",
      "text/plain": [
       "<Figure size 432x288 with 1 Axes>"
      ]
     },
     "metadata": {
      "needs_background": "light",
      "tags": []
     },
     "output_type": "display_data"
    },
    {
     "name": "stdout",
     "output_type": "stream",
     "text": [
      "The cutoff for var1m0 is 52.09412761129833\n",
      "There are 0 outliers on this variable\n",
      "\n",
      "\n",
      "var2m0\n"
     ]
    },
    {
     "data": {
      "image/png": "[encoded data removed]",
      "text/plain": [
       "<Figure size 432x288 with 1 Axes>"
      ]
     },
     "metadata": {
      "needs_background": "light",
      "tags": []
     },
     "output_type": "display_data"
    },
    {
     "name": "stdout",
     "output_type": "stream",
     "text": [
      "The cutoff for var2m0 is 1016.2694304227699\n",
      "There are 1219 outliers on this variable\n",
      "\n",
      "\n",
      "var2m1\n"
     ]
    },
    {
     "data": {
      "image/png": "[encoded data removed]",
      "text/plain": [
       "<Figure size 432x288 with 1 Axes>"
      ]
     },
     "metadata": {
      "needs_background": "light",
      "tags": []
     },
     "output_type": "display_data"
    },
    {
     "name": "stdout",
     "output_type": "stream",
     "text": [
      "The cutoff for var2m1 is 520.6670846301863\n",
      "There are 1757 outliers on this variable\n",
      "\n",
      "\n",
      "var2m2\n"
     ]
    },
    {
     "data": {
      "image/png": "[encoded data removed]",
      "text/plain": [
       "<Figure size 432x288 with 1 Axes>"
      ]
     },
     "metadata": {
      "needs_background": "light",
      "tags": []
     },
     "output_type": "display_data"
    },
    {
     "name": "stdout",
     "output_type": "stream",
     "text": [
      "The cutoff for var2m2 is 472.13155222540087\n",
      "There are 1522 outliers on this variable\n",
      "\n",
      "\n",
      "var3m0\n"
     ]
    },
    {
     "data": {
      "image/png": "[encoded data removed]",
      "text/plain": [
       "<Figure size 432x288 with 1 Axes>"
      ]
     },
     "metadata": {
      "needs_background": "light",
      "tags": []
     },
     "output_type": "display_data"
    },
    {
     "name": "stdout",
     "output_type": "stream",
     "text": [
      "The cutoff for var3m0 is 42.10286141716686\n",
      "There are 0 outliers on this variable\n",
      "\n",
      "\n",
      "var3m1\n"
     ]
    },
    {
     "data": {
      "image/png": "[encoded data removed]",
      "text/plain": [
       "<Figure size 432x288 with 1 Axes>"
      ]
     },
     "metadata": {
      "needs_background": "light",
      "tags": []
     },
     "output_type": "display_data"
    },
    {
     "name": "stdout",
     "output_type": "stream",
     "text": [
      "The cutoff for var3m1 is 42.241397452534386\n",
      "There are 0 outliers on this variable\n",
      "\n",
      "\n",
      "var3m2\n"
     ]
    },
    {
     "data": {
      "image/png": "[encoded data removed]",
      "text/plain": [
       "<Figure size 432x288 with 1 Axes>"
      ]
     },
     "metadata": {
      "needs_background": "light",
      "tags": []
     },
     "output_type": "display_data"
    },
    {
     "name": "stdout",
     "output_type": "stream",
     "text": [
      "The cutoff for var3m2 is 43.08027502624688\n",
      "There are 0 outliers on this variable\n",
      "\n",
      "\n",
      "var4m0\n"
     ]
    },
    {
     "data": {
      "image/png": "[encoded data removed]",
      "text/plain": [
       "<Figure size 432x288 with 1 Axes>"
      ]
     },
     "metadata": {
      "needs_background": "light",
      "tags": []
     },
     "output_type": "display_data"
    },
    {
     "name": "stdout",
     "output_type": "stream",
     "text": [
      "The cutoff for var4m0 is 8127.123284265291\n",
      "There are 1454 outliers on this variable\n",
      "\n",
      "\n",
      "var4m1\n"
     ]
    },
    {
     "data": {
      "image/png": "[encoded data removed]",
      "text/plain": [
       "<Figure size 432x288 with 1 Axes>"
      ]
     },
     "metadata": {
      "needs_background": "light",
      "tags": []
     },
     "output_type": "display_data"
    },
    {
     "name": "stdout",
     "output_type": "stream",
     "text": [
      "The cutoff for var4m1 is 4531.692086376273\n",
      "There are 1836 outliers on this variable\n",
      "\n",
      "\n",
      "var4m2\n"
     ]
    },
    {
     "data": {
      "image/png": "[encoded data removed]",
      "text/plain": [
       "<Figure size 432x288 with 1 Axes>"
      ]
     },
     "metadata": {
      "needs_background": "light",
      "tags": []
     },
     "output_type": "display_data"
    },
    {
     "name": "stdout",
     "output_type": "stream",
     "text": [
      "The cutoff for var4m2 is 3743.689186670024\n",
      "There are 1571 outliers on this variable\n",
      "(86027, 12)\n"
     ]
    }
   ],
   "source": [
    "for col in df_train:\n",
    "  if col in skips:\n",
    "    continue\n",
    "  print('\\n')\n",
    "  print(col)\n",
    "\n",
    "  sns.boxplot(x= df_train[col])\n",
    "  plt.show()\n",
    "\n",
    "  olen = df_train.shape[0]\n",
    "\n",
    "\n",
    "  cutoff = df_train[col].mean() + (3*df_train[col].std())\n",
    "  print('The cutoff for %s is %s' % (col, cutoff))\n",
    "\n",
    "  df_train = df_train.loc[df_train[col] < cutoff]\n",
    "\n",
    "  flen = df_train.shape[0]\n",
    "\n",
    "  print('There are %s outliers on this variable' % (olen- flen))\n",
    "\n",
    "print(df_train.shape)\n",
    "\n",
    "  \n",
    "\n"
   ]
  },
  {
   "cell_type": "code",
   "execution_count": 37,
   "metadata": {
    "id": "vFage4DpRtev"
   },
   "outputs": [],
   "source": []
  },
  {
   "cell_type": "code",
   "execution_count": 37,
   "metadata": {
    "id": "LpzbcDdlQSi0"
   },
   "outputs": [],
   "source": []
  },
  {
   "cell_type": "markdown",
   "metadata": {
    "id": "9qC3TqvpWFdx"
   },
   "source": [
    "#### **Data Descriptives**"
   ]
  },
  {
   "cell_type": "markdown",
   "metadata": {
    "id": "lEQHMB-9WaXS"
   },
   "source": [
    "Group the customers by churn. How many customers churned/Not churned and count how many customers are in each of the group."
   ]
  },
  {
   "cell_type": "code",
   "execution_count": 38,
   "metadata": {
    "colab": {
     "base_uri": "https://localhost:8080/"
    },
    "id": "LlGI8ffB5-aD",
    "outputId": "8bcdcdcb-7b06-4765-96be-63f856fb2cf6"
   },
   "outputs": [
    {
     "name": "stdout",
     "output_type": "stream",
     "text": [
      "   Churn  Number of customers\n",
      "0      0                64021\n",
      "1      1                22006\n"
     ]
    }
   ],
   "source": [
    "df_grouped = df_train.groupby('churn', as_index=False).MSISDN.count()\n",
    "df_grouped.columns = ['Churn', 'Number of customers']\n",
    "print(df_grouped)"
   ]
  },
  {
   "cell_type": "markdown",
   "metadata": {
    "id": "viF4t4g76Enm"
   },
   "source": [
    "Group by churn and compute the Min,max,median,mean and count in each of the independent variables"
   ]
  },
  {
   "cell_type": "code",
   "execution_count": 39,
   "metadata": {
    "colab": {
     "base_uri": "https://localhost:8080/"
    },
    "id": "xBPQ0GwW6PEQ",
    "outputId": "fd332611-5b5d-4aa9-c49b-2dc05b6f686a"
   },
   "outputs": [
    {
     "name": "stdout",
     "output_type": "stream",
     "text": [
      "churn                     0             1\n",
      "var1m0 amin        0.000000      0.000000\n",
      "       amax       30.000000     30.000000\n",
      "       median     26.000000     14.000000\n",
      "       mean       22.033489     13.799282\n",
      "       count   64021.000000  22006.000000\n",
      "var2m0 amin        0.000000      0.000000\n",
      "       amax     1013.531700    693.000000\n",
      "       median      0.012600      0.012600\n",
      "       mean       27.192919      2.214000\n",
      "       count   64021.000000  22006.000000\n",
      "var2m1 amin        0.000000      0.000000\n",
      "       amax      520.300200    479.333600\n",
      "       median      0.021000      0.021000\n",
      "       mean       25.187902      2.378682\n",
      "       count   64021.000000  22006.000000\n",
      "var2m2 amin        0.000000      0.000000\n",
      "       amax      472.000000    472.000000\n",
      "       median      0.054600      0.054600\n",
      "       mean       27.093231      4.590656\n",
      "       count   64021.000000  22006.000000\n",
      "var3m0 amin        0.000000      0.000000\n",
      "       amax       30.000000     30.000000\n",
      "       median      6.000000      0.000000\n",
      "       mean       10.695537      0.772380\n",
      "       count   64021.000000  22006.000000\n",
      "var3m1 amin        0.000000      0.000000\n",
      "       amax       30.000000     30.000000\n",
      "       median      7.000000      0.000000\n",
      "       mean       10.909920      0.840634\n",
      "       count   64021.000000  22006.000000\n",
      "var3m2 amin        0.000000      0.000000\n",
      "       amax       30.000000     30.000000\n",
      "       median      7.000000      0.000000\n",
      "       mean       11.314225      1.809325\n",
      "       count   64021.000000  22006.000000\n",
      "var4m0 amin        0.000000      0.000000\n",
      "       amax     8118.012148   7632.907674\n",
      "       median     97.599348     97.599348\n",
      "       mean      425.084369    111.628778\n",
      "       count   64021.000000  22006.000000\n",
      "var4m1 amin        0.000000      0.000000\n",
      "       amax     4528.905627   4419.361895\n",
      "       median     87.163513     87.163513\n",
      "       mean      361.405568     97.889706\n",
      "       count   64021.000000  22006.000000\n",
      "var4m2 amin        0.000000      0.000000\n",
      "       amax     3743.465267   3735.887930\n",
      "       median     89.224087     89.224087\n",
      "       mean      382.721811    101.480568\n",
      "       count   64021.000000  22006.000000\n"
     ]
    }
   ],
   "source": [
    "df_grouped2 = df_train.drop('MSISDN', axis= 1).groupby('churn').agg([np.min,np.max, np.median, np.mean, 'count'])\n",
    "print(df_grouped2.T)"
   ]
  },
  {
   "cell_type": "markdown",
   "metadata": {
    "id": "kYO78zepleYZ"
   },
   "source": [
    "Bin variables var1m0,var2m0,var3m0,var4m0 using qcut with q=4\n",
    "\n",
    "How many customers who churned/not churned are in each group"
   ]
  },
  {
   "cell_type": "code",
   "execution_count": 40,
   "metadata": {
    "colab": {
     "base_uri": "https://localhost:8080/"
    },
    "id": "kE7nDsuKmfef",
    "outputId": "3d3c7f4c-77e5-48ac-eb55-1e6331749a38"
   },
   "outputs": [
    {
     "name": "stdout",
     "output_type": "stream",
     "text": [
      "                      count\n",
      "churn Var1m0_bins          \n",
      "0     (-0.001, 12.0]  12045\n",
      "      (12.0, 24.0]    15899\n",
      "      (24.0, 29.0]    17107\n",
      "      (29.0, 30.0]    18970\n",
      "1     (-0.001, 12.0]  10581\n",
      "      (12.0, 24.0]     5484\n",
      "      (24.0, 29.0]     3700\n",
      "      (29.0, 30.0]     2241\n",
      "                          count\n",
      "churn Var2m0_bins              \n",
      "0     (-0.001, 0.0126]    40631\n",
      "      (0.0126, 0.0882]     2655\n",
      "      (0.0882, 1013.532]  20735\n",
      "1     (-0.001, 0.0126]    21177\n",
      "      (0.0126, 0.0882]       83\n",
      "      (0.0882, 1013.532]    746\n",
      "                     count\n",
      "churn Var3m0_bins         \n",
      "0     (-0.001, 2.0]  23847\n",
      "      (2.0, 15.0]    19437\n",
      "      (15.0, 30.0]   20737\n",
      "1     (-0.001, 2.0]  20827\n",
      "      (2.0, 15.0]      731\n",
      "      (15.0, 30.0]     448\n",
      "                           count\n",
      "churn Var4m0_bins               \n",
      "0     (-0.001, 4.011]      20558\n",
      "      (4.011, 97.599]      21619\n",
      "      (97.599, 116.946]      767\n",
      "      (116.946, 8118.012]  21077\n",
      "1     (-0.001, 4.011]        949\n",
      "      (4.011, 97.599]      20609\n",
      "      (97.599, 116.946]       18\n",
      "      (116.946, 8118.012]    430\n"
     ]
    }
   ],
   "source": [
    "df_train['Var1m0_bins'] = pd.qcut(x= df_train['var1m0'], q= 4, duplicates='drop')\n",
    "df_train['Var2m0_bins'] = pd.qcut(x= df_train['var2m0'], q= 4, duplicates='drop')\n",
    "df_train['Var3m0_bins'] = pd.qcut(x= df_train['var3m0'], q= 4, duplicates='drop')\n",
    "df_train['Var4m0_bins'] = pd.qcut(x= df_train['var4m0'], q= 4, duplicates='drop')\n",
    "\n",
    "print(df_train.groupby(['churn','Var1m0_bins']).MSISDN.agg(['count']))\n",
    "print(df_train.groupby(['churn','Var2m0_bins']).MSISDN.agg(['count']))\n",
    "print(df_train.groupby(['churn','Var3m0_bins']).MSISDN.agg(['count']))\n",
    "print(df_train.groupby(['churn','Var4m0_bins']).MSISDN.agg(['count']))\n"
   ]
  },
  {
   "cell_type": "markdown",
   "metadata": {
    "id": "UyQ4jeW-rN97"
   },
   "source": [
    "#### **Visualization**"
   ]
  },
  {
   "cell_type": "markdown",
   "metadata": {
    "id": "owkJJZcJmrqP"
   },
   "source": [
    "Using bar chart explain the relationship between the variables var2m1,var3m1,var4m1 and the churn variable"
   ]
  },
  {
   "cell_type": "code",
   "execution_count": 41,
   "metadata": {
    "colab": {
     "base_uri": "https://localhost:8080/",
     "height": 809
    },
    "id": "W7ReXZsNnYV9",
    "outputId": "bb34ac04-8d75-43c7-d743-9027496b14f5"
   },
   "outputs": [
    {
     "data": {
      "image/png": "[encoded data removed]",
      "text/plain": [
       "<Figure size 432x288 with 1 Axes>"
      ]
     },
     "metadata": {
      "needs_background": "light",
      "tags": []
     },
     "output_type": "display_data"
    },
    {
     "data": {
      "image/png": "[encoded data removed]",
      "text/plain": [
       "<Figure size 432x288 with 1 Axes>"
      ]
     },
     "metadata": {
      "needs_background": "light",
      "tags": []
     },
     "output_type": "display_data"
    },
    {
     "data": {
      "image/png": "[encoded data removed]",
      "text/plain": [
       "<Figure size 432x288 with 1 Axes>"
      ]
     },
     "metadata": {
      "needs_background": "light",
      "tags": []
     },
     "output_type": "display_data"
    }
   ],
   "source": [
    "import seaborn as sns\n",
    "import matplotlib.pyplot as plt\n",
    "\n",
    "variables = ['var2m1', 'var3m1', 'var4m1']\n",
    "\n",
    "for var in variables:\n",
    "  m1 = df_train.loc[df_train['churn']== 1, var].mean()\n",
    "  m2 = df_train.loc[df_train['churn']== 0, var].mean()\n",
    "  sns.barplot(x = [var + ' when churned',var + ' when not churned'], y = [m1,m2])\n",
    "  plt.title('mean values')\n",
    "  plt.show()\n",
    "\n",
    "  \n"
   ]
  },
  {
   "cell_type": "markdown",
   "metadata": {
    "id": "n4qVQFtnnXlF"
   },
   "source": [
    "Using scatter plot explain the relationship between var4m0 and var4m2.\n",
    "\n",
    "Explain the type of correlation observed."
   ]
  },
  {
   "cell_type": "code",
   "execution_count": 42,
   "metadata": {
    "colab": {
     "base_uri": "https://localhost:8080/",
     "height": 313
    },
    "id": "pqqRWllWn9tr",
    "outputId": "de871deb-da12-4838-8b76-f2f54b1c1a5c"
   },
   "outputs": [
    {
     "data": {
      "image/png": "[encoded data removed]",
      "text/plain": [
       "<Figure size 432x288 with 1 Axes>"
      ]
     },
     "metadata": {
      "needs_background": "light",
      "tags": []
     },
     "output_type": "display_data"
    },
    {
     "name": "stdout",
     "output_type": "stream",
     "text": [
      "The correlation is 0.5288104958712532\n"
     ]
    }
   ],
   "source": [
    "sns.scatterplot(x= df_train['var4m0'], y=df_train['var4m2'])\n",
    "plt.title('Scatter plot between var4m0 and var4m2')\n",
    "plt.show()\n",
    "print('The correlation is ' + str(df_train['var4m0'].corr(df_train['var4m2'])))"
   ]
  },
  {
   "cell_type": "markdown",
   "metadata": {
    "id": "WkhNPyfdoCdo"
   },
   "source": [
    "Use density plot to explain the distribution of var4m2 for the Churn and Non-Churn customers"
   ]
  },
  {
   "cell_type": "code",
   "execution_count": 43,
   "metadata": {
    "colab": {
     "base_uri": "https://localhost:8080/",
     "height": 297
    },
    "id": "wkHzkoCBoWOe",
    "outputId": "93efba42-f353-4228-d642-0e7f6141d914"
   },
   "outputs": [
    {
     "data": {
      "text/plain": [
       "<matplotlib.axes._subplots.AxesSubplot at 0x7f4ac5acc850>"
      ]
     },
     "execution_count": 43,
     "metadata": {
      "tags": []
     },
     "output_type": "execute_result"
    },
    {
     "data": {
      "image/png": "[encoded data removed]",
      "text/plain": [
       "<Figure size 432x288 with 1 Axes>"
      ]
     },
     "metadata": {
      "needs_background": "light",
      "tags": []
     },
     "output_type": "display_data"
    }
   ],
   "source": [
    "sns.kdeplot(data = df_train.loc[df_train['churn']== 1,'var4m2'])\n",
    "sns.kdeplot(data = df_train.loc[df_train['churn']== 0,'var4m2'])\n"
   ]
  },
  {
   "cell_type": "code",
   "execution_count": 43,
   "metadata": {
    "id": "ZV119THBNU1e"
   },
   "outputs": [],
   "source": []
  },
  {
   "cell_type": "markdown",
   "metadata": {
    "id": "Ij1NZzaWoqJb"
   },
   "source": [
    "Use Histogram and comment on the distribution of the following features: var2m0,var3m1,var4m2"
   ]
  },
  {
   "cell_type": "code",
   "execution_count": 44,
   "metadata": {
    "colab": {
     "base_uri": "https://localhost:8080/",
     "height": 803
    },
    "id": "ZwaXftUoo7AL",
    "outputId": "4be217ed-a292-4ffa-879d-0ae0b425a648"
   },
   "outputs": [
    {
     "data": {
      "image/png": "[encoded data removed]",
      "text/plain": [
       "<Figure size 432x288 with 1 Axes>"
      ]
     },
     "metadata": {
      "needs_background": "light",
      "tags": []
     },
     "output_type": "display_data"
    },
    {
     "data": {
      "image/png": "[encoded data removed]",
      "text/plain": [
       "<Figure size 432x288 with 1 Axes>"
      ]
     },
     "metadata": {
      "needs_background": "light",
      "tags": []
     },
     "output_type": "display_data"
    },
    {
     "data": {
      "image/png": "[encoded data removed]",
      "text/plain": [
       "<Figure size 432x288 with 1 Axes>"
      ]
     },
     "metadata": {
      "needs_background": "light",
      "tags": []
     },
     "output_type": "display_data"
    }
   ],
   "source": [
    "variables = ['var2m0', 'var3m1', 'var4m2']\n",
    "\n",
    "for var in variables:\n",
    "    sns.distplot(a= df_train[var], kde=False)\n",
    "    plt.show()\n"
   ]
  },
  {
   "cell_type": "markdown",
   "metadata": {
    "id": "8btJ7Ik-o7l-"
   },
   "source": [
    "Using BoxPlot, identify what is the median,1st interquartile, 2nd Interquartile and the 3rd interquartile for the variable var3m2. \n",
    "\n",
    "Split the data into churn and Non-Churn"
   ]
  },
  {
   "cell_type": "code",
   "execution_count": 45,
   "metadata": {
    "colab": {
     "base_uri": "https://localhost:8080/",
     "height": 885
    },
    "id": "ud_H35oPpe8s",
    "outputId": "cbb64b09-bb55-4e43-88e0-33208f24046d"
   },
   "outputs": [
    {
     "data": {
      "image/png": "[encoded data removed]",
      "text/plain": [
       "<Figure size 432x288 with 1 Axes>"
      ]
     },
     "metadata": {
      "needs_background": "light",
      "tags": []
     },
     "output_type": "display_data"
    },
    {
     "name": "stdout",
     "output_type": "stream",
     "text": [
      "count    22006.000000\n",
      "mean         1.809325\n",
      "std          4.933191\n",
      "min          0.000000\n",
      "25%          0.000000\n",
      "50%          0.000000\n",
      "75%          1.000000\n",
      "max         30.000000\n",
      "Name: var3m2, dtype: float64\n"
     ]
    },
    {
     "data": {
      "image/png": "[encoded data removed]",
      "text/plain": [
       "<Figure size 432x288 with 1 Axes>"
      ]
     },
     "metadata": {
      "needs_background": "light",
      "tags": []
     },
     "output_type": "display_data"
    },
    {
     "name": "stdout",
     "output_type": "stream",
     "text": [
      "count    64021.000000\n",
      "mean        11.314225\n",
      "std         10.922362\n",
      "min          0.000000\n",
      "25%          1.000000\n",
      "50%          7.000000\n",
      "75%         22.000000\n",
      "max         30.000000\n",
      "Name: var3m2, dtype: float64\n"
     ]
    }
   ],
   "source": [
    "\n",
    "sns.boxplot(x= df_train.loc[df_train['churn']== 1, 'var3m2'])\n",
    "plt.title('Box plot for churned customers')\n",
    "plt.show()\n",
    "print(df_train.loc[df_train['churn']== 1, 'var3m2'].describe())\n",
    "\n",
    "\n",
    "sns.boxplot(x= df_train.loc[df_train['churn']== 0, 'var3m2'])\n",
    "plt.title('Box plot for not churned customers')\n",
    "plt.show()\n",
    "print(df_train.loc[df_train['churn']== 0, 'var3m2'].describe())"
   ]
  },
  {
   "cell_type": "code",
   "execution_count": 45,
   "metadata": {
    "id": "VaZs7DIg5IOw"
   },
   "outputs": [],
   "source": []
  },
  {
   "cell_type": "markdown",
   "metadata": {
    "id": "lB33YT8K5UQm"
   },
   "source": [
    "Use a heatmap to demostrate the correlation between the independent variables."
   ]
  },
  {
   "cell_type": "code",
   "execution_count": 46,
   "metadata": {
    "colab": {
     "base_uri": "https://localhost:8080/",
     "height": 327
    },
    "id": "_CtQjaYe5qWp",
    "outputId": "77714a69-0ce0-4440-8c0e-aa8252b77136"
   },
   "outputs": [
    {
     "data": {
      "text/plain": [
       "Text(0.5, 1.0, 'Correlations')"
      ]
     },
     "execution_count": 46,
     "metadata": {
      "tags": []
     },
     "output_type": "execute_result"
    },
    {
     "data": {
      "image/png": "[encoded data removed]",
      "text/plain": [
       "<Figure size 432x288 with 2 Axes>"
      ]
     },
     "metadata": {
      "needs_background": "light",
      "tags": []
     },
     "output_type": "display_data"
    }
   ],
   "source": [
    "corrs = df_train.drop('churn', axis= 1).corr()\n",
    "sns.heatmap(data= corrs, center= 0.5, cmap = 'coolwarm')\n",
    "plt.title('Correlations')"
   ]
  },
  {
   "cell_type": "code",
   "execution_count": 46,
   "metadata": {
    "id": "caikUttIXXo3"
   },
   "outputs": [],
   "source": []
  },
  {
   "cell_type": "code",
   "execution_count": 46,
   "metadata": {
    "id": "Xq7ea1i_cXll"
   },
   "outputs": [],
   "source": []
  },
  {
   "cell_type": "markdown",
   "metadata": {
    "id": "WRXEZ605cwd5"
   },
   "source": [
    "#### **Hypothesis Testing**\n",
    "Using the variable var2m0 and the dependant variable churn, Formulate a hypothesis and test the hypothesis\n",
    "\n",
    "Hint: Have a null Hypothesis and an alternative hypothesis. The two groups you are comparing is the churn and not-churn "
   ]
  },
  {
   "cell_type": "code",
   "execution_count": 47,
   "metadata": {
    "colab": {
     "base_uri": "https://localhost:8080/"
    },
    "id": "o03W2KEDdchg",
    "outputId": "a5b41a8b-434d-43a8-fe3b-430f5b38f8dc"
   },
   "outputs": [
    {
     "name": "stdout",
     "output_type": "stream",
     "text": [
      "The Z-score is 71.37997786912287\n"
     ]
    }
   ],
   "source": [
    "import math\n",
    "# hypothesis test of the means between both groups\n",
    "#Null hypothesis: There is no difference between the means in the two groups on var2m0\n",
    "#Alternative hypothesis: There is a difference\n",
    "# Significance level: 1%\n",
    "\n",
    "Churnedmean = df_train.loc[df_train['churn']== 1, 'var2m0'].mean()\n",
    "Notchurnedmean = df_train.loc[df_train['churn']== 0, 'var2m0'].mean()\n",
    "Churnedstd = df_train.loc[df_train['churn']== 1, 'var2m0'].std()\n",
    "Notchurnedstd = df_train.loc[df_train['churn']== 0, 'var2m0'].std()\n",
    "Churnedcount = df_train.loc[df_train['churn']== 1, 'var2m0'].count()\n",
    "Notchurnedcount = df_train.loc[df_train['churn']== 0, 'var2m0'].count()\n",
    "\n",
    "meandifference = abs(Churnedmean - Notchurnedmean)\n",
    "se1 = Churnedstd*Churnedstd/Churnedcount\n",
    "se2 = Notchurnedstd*Notchurnedstd/Notchurnedcount\n",
    "\n",
    "zscore = meandifference/(math.sqrt(se1 + se2))\n",
    "print('The Z-score is ' + str(zscore))\n",
    "\n"
   ]
  },
  {
   "cell_type": "markdown",
   "metadata": {
    "id": "oJXqQXehqjkr"
   },
   "source": [
    "The Z-score is very high the null hypothesis can be rejected"
   ]
  },
  {
   "cell_type": "markdown",
   "metadata": {
    "id": "E6GYfcV6dgtZ"
   },
   "source": [
    "#### **Feature Engineering**\n",
    "Using the existinge feature compute new features. \n",
    "\n",
    "Hint: Compute ratios for the M1 and M0 and M2 and M0 for the var2 and var3"
   ]
  },
  {
   "cell_type": "code",
   "execution_count": 48,
   "metadata": {
    "id": "7Y-f895ceo4B"
   },
   "outputs": [],
   "source": [
    "df_train['var2m0bym1'] = df_train['var2m0']/(df_train['var2m1']+1)\n",
    "df_train['var2m1bym2'] = df_train['var2m1']/(df_train['var2m2']+1)\n",
    "df_train['var3m0bym1'] = df_train['var3m0']/(df_train['var3m1']+1)\n",
    "df_train['var3m1bym2'] = df_train['var3m1']/(df_train['var3m2']+1)\n",
    "df_test['var2m0bym1'] = df_test['var2m0']/(df_test['var2m1']+1)\n",
    "df_test['var2m1bym2'] = df_test['var2m1']/(df_test['var2m2']+1)\n",
    "df_test['var3m0bym1'] = df_test['var3m0']/(df_test['var3m1']+1)\n",
    "df_test['var3m1bym2'] = df_test['var3m1']/(df_test['var3m2']+1)\n",
    "\n",
    "\n",
    "# 1 added to avoid getting infinity values when the divisor variable is zero\n"
   ]
  },
  {
   "cell_type": "markdown",
   "metadata": {
    "id": "-bbImcI5evFA"
   },
   "source": [
    "#### **Model Building**\n",
    "Using the features provided and the features computed above build a model to predict the customer churn.\n",
    "\n",
    "\n",
    "Model Building Process\n",
    "\n",
    "* Split the data into training and validation (80:20)\n",
    "* Train and Fit a model using the training data set\n",
    "* Use the model to predict on the validation data set\n",
    "* Evalute the Model Performance:Compute the following metrics\n",
    "    * AUC\n",
    "    * Recall\n",
    "    * Precision\n",
    "    * F1 Score\n",
    "* Compute Confusion Matrix\n",
    "* Visualize the ROC curve\n",
    "\n",
    "\n",
    "NB: Repeat the process above for all the four models below.\n",
    "\n",
    "- Build a decision Tree model (and show the tree diagram)\n",
    "\n",
    "- Random Forest\n",
    "\n",
    "- Logistic Regression\n",
    "\n",
    "- Any Boosting Model\n",
    "\n",
    "\n",
    "\n",
    "Based on the evalution metrics select the best model.\n",
    "\n",
    "Choose the best model based on the validation results. Predict churn on the test data,save as csv and email your results to (dgitahi@safaricom.co.ke, lkangethe@safaricom.co.ke). \n",
    "\n",
    "Ensure you share the results within 30 minutes after the end of this exam\n",
    "\n",
    "NB: Your results should be in the below format.\n",
    "\n",
    "\n",
    "\n",
    "\n",
    "![image.png](data:image/png;base64,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)\n",
    "\n",
    "\n",
    "1- for churn, 0- Not-churn\n"
   ]
  },
  {
   "cell_type": "code",
   "execution_count": 49,
   "metadata": {
    "colab": {
     "base_uri": "https://localhost:8080/"
    },
    "id": "kPsApzszloWq",
    "outputId": "4b689c1c-4813-4cf5-e647-df251dd005e6"
   },
   "outputs": [
    {
     "name": "stdout",
     "output_type": "stream",
     "text": [
      "Variables used: \n",
      "['var1m0', 'var2m0', 'var2m1', 'var2m2', 'var3m0', 'var3m1', 'var3m2', 'var4m0', 'var4m1', 'var4m2', 'var2m0bym1', 'var2m1bym2', 'var3m0bym1', 'var3m1bym2']\n"
     ]
    }
   ],
   "source": [
    "from sklearn import tree\n",
    "from sklearn.ensemble import RandomForestClassifier\n",
    "from sklearn.linear_model import LogisticRegression\n",
    "from sklearn.tree import DecisionTreeClassifier\n",
    "from xgboost import XGBRegressor\n",
    "from sklearn.model_selection import train_test_split\n",
    "from sklearn.metrics import confusion_matrix\n",
    "from sklearn.metrics import roc_auc_score\n",
    "from sklearn.metrics import roc_curve\n",
    "\n",
    "x = df_train.select_dtypes('number').drop('churn', axis= 1)\n",
    "y = df_train['churn']\n",
    "xtrain, xtest, ytrain, ytest = train_test_split(x,y,train_size=0.8, test_size=0.2)\n",
    "\n",
    "print('Variables used: ')\n",
    "print(list(x.columns))\n",
    "\n",
    "def scoremodel(ytest, yprobabilities):\n",
    "\n",
    "  #get best fscore across different threshold probabilities\n",
    "\n",
    "  maxfscore = 0\n",
    "  for j in range(1, 99, 1):\n",
    "    threshold = j/100\n",
    "    adjpredicts = [yprobabilities[i][1] > threshold for i in range(len(yprobabilities))]\n",
    "\n",
    "    cf = confusion_matrix(ytest, adjpredicts)\n",
    "    recall = cf[1, 1] / sum(cf[1, :])\n",
    "    precision = cf[1, 1] / sum(cf[:, 1])\n",
    "    fscore = 2 * (recall * precision) / (recall + precision)\n",
    "\n",
    "    if(fscore > maxfscore):\n",
    "      maxfscore = fscore\n",
    "      bestthresh = threshold\n",
    "      cprecision = precision\n",
    "      crecall = recall\n",
    "      bestcf = cf\n",
    "\n",
    "  return maxfscore,cprecision, crecall, bestthresh,bestcf\n",
    "\n"
   ]
  },
  {
   "cell_type": "code",
   "execution_count": 28,
   "metadata": {
    "colab": {
     "base_uri": "https://localhost:8080/",
     "height": 491
    },
    "id": "eC6HnVBO2x5r",
    "outputId": "cc231b98-c64b-43aa-a407-6839be0cc6b7"
   },
   "outputs": [
    {
     "name": "stdout",
     "output_type": "stream",
     "text": [
      "\n",
      "Best fscore on train: 0.9449168404727525\n",
      "Precision on train: 0.8956305758313058\n",
      "Recall on train: 0.9999434069043577\n",
      "Threshold probability 0.34\n",
      "\n",
      "\n",
      "\n",
      "fscore on test: 0.7902007338657457\n",
      "Precision on test: 0.7425963488843813\n",
      "Recall on test: 0.8443265682656826\n",
      "Test confusion matrix: \n",
      "[[11601  1269]\n",
      " [  675  3661]]\n"
     ]
    },
    {
     "data": {
      "image/png": "[encoded data removed]",
      "text/plain": [
       "<Figure size 432x288 with 1 Axes>"
      ]
     },
     "metadata": {
      "needs_background": "light",
      "tags": []
     },
     "output_type": "display_data"
    }
   ],
   "source": [
    "# Decision tree assessment\n",
    "\n",
    "dt = DecisionTreeClassifier()\n",
    "dt.fit(xtrain, ytrain)\n",
    "tree.plot_tree(dt, max_depth = 4)\n",
    "ypredicts = dt.predict_proba(xtrain)\n",
    "fscore, precision,recall,thresh,cf= scoremodel(ytrain, ypredicts)\n",
    "\n",
    "ypredictstest = dt.predict_proba(xtest)\n",
    "adjpredicts = [ypredictstest[i][1] > thresh for i in range(len(ypredictstest))]\n",
    "tcf = confusion_matrix(ytest, adjpredicts)\n",
    "trecall = tcf[1, 1] / sum(tcf[1, :])\n",
    "tprecision = tcf[1, 1] / sum(tcf[:, 1])\n",
    "tfscore = 2 * (trecall * tprecision) / (trecall + tprecision)\n",
    "\n",
    "\n",
    "\n",
    "print('\\nBest fscore on train: '+ str(fscore))\n",
    "print('Precision on train: ' + str(precision))\n",
    "print('Recall on train: '+ str(recall))\n",
    "print('Threshold probability ' + str(thresh))\n",
    "\n",
    "print('\\n')\n",
    "print('\\nfscore on test: '+ str(tfscore))\n",
    "print('Precision on test: ' + str(tprecision))\n",
    "print('Recall on test: '+ str(trecall))\n",
    "print('Test confusion matrix: ')\n",
    "print(tcf)\n",
    "\n",
    "\n",
    "\n",
    "\n",
    "\n",
    "\n",
    "\n",
    "\n"
   ]
  },
  {
   "cell_type": "code",
   "execution_count": 50,
   "metadata": {
    "colab": {
     "base_uri": "https://localhost:8080/"
    },
    "id": "xy1O3_2aA1kz",
    "outputId": "8984624a-6ed8-416f-90b8-f0422f8d1dae"
   },
   "outputs": [
    {
     "name": "stdout",
     "output_type": "stream",
     "text": [
      "\n",
      "Best fscore on train: 0.9436262061960387\n",
      "Precision on train: 0.8937667730011646\n",
      "Recall on train: 0.9993771939757672\n",
      "Threshold probability 0.5\n",
      "\n",
      "\n",
      "\n",
      "fscore on test: 0.8428394645066937\n",
      "Precision on test: 0.8242024202420242\n",
      "Recall on test: 0.8623388581952118\n",
      "Test confusion matrix: \n",
      "[[12063   799]\n",
      " [  598  3746]]\n"
     ]
    }
   ],
   "source": [
    "# Random forest assessment\n",
    "\n",
    "rfmodel = RandomForestClassifier()\n",
    "rfmodel.fit(xtrain, ytrain)\n",
    "\n",
    "ypredicts = rfmodel.predict_proba(xtrain)\n",
    "fscore, precision,recall,thresh,cf= scoremodel(ytrain, ypredicts)\n",
    "\n",
    "ypredictstest = rfmodel.predict_proba(xtest)\n",
    "adjpredicts = [ypredictstest[i][1] > thresh for i in range(len(ypredictstest))]\n",
    "tcf = confusion_matrix(ytest, adjpredicts)\n",
    "trecall = tcf[1, 1] / sum(tcf[1, :])\n",
    "tprecision = tcf[1, 1] / sum(tcf[:, 1])\n",
    "tfscore = 2 * (trecall * tprecision) / (trecall + tprecision)\n",
    "\n",
    "rfp = thresh\n",
    "\n",
    "\n",
    "\n",
    "print('\\nBest fscore on train: '+ str(fscore))\n",
    "print('Precision on train: ' + str(precision))\n",
    "print('Recall on train: '+ str(recall))\n",
    "print('Threshold probability ' + str(thresh))\n",
    "\n",
    "print('\\n')\n",
    "print('\\nfscore on test: '+ str(tfscore))\n",
    "print('Precision on test: ' + str(tprecision))\n",
    "print('Recall on test: '+ str(trecall))\n",
    "print('Test confusion matrix: ')\n",
    "print(tcf)\n",
    "\n"
   ]
  },
  {
   "cell_type": "code",
   "execution_count": 51,
   "metadata": {
    "colab": {
     "base_uri": "https://localhost:8080/"
    },
    "id": "vMJMPoaYgUPi",
    "outputId": "135ae581-9de5-4f28-ebff-11b77a99bf27"
   },
   "outputs": [
    {
     "name": "stdout",
     "output_type": "stream",
     "text": [
      "\n",
      "Best fscore on train: 0.8384838700925197\n",
      "Precision on train: 0.8050013024225059\n",
      "Recall on train: 0.8748726078586796\n",
      "Threshold probability 0.46\n",
      "\n",
      "\n",
      "\n",
      "fscore on test: 0.8368951389657845\n",
      "Precision on test: 0.8062726690847024\n",
      "Recall on test: 0.8699355432780848\n",
      "Test confusion matrix: \n",
      "[[11954   908]\n",
      " [  565  3779]]\n"
     ]
    }
   ],
   "source": [
    "# Logistic assessment\n",
    "\n",
    "lmodel = LogisticRegression()\n",
    "lmodel.fit(xtrain, ytrain)\n",
    "\n",
    "\n",
    "ypredicts = lmodel.predict_proba(xtrain)\n",
    "fscore, precision,recall,thresh,cf= scoremodel(ytrain, ypredicts)\n",
    "\n",
    "ypredictstest = lmodel.predict_proba(xtest)\n",
    "adjpredicts = [ypredictstest[i][1] > thresh for i in range(len(ypredictstest))]\n",
    "tcf = confusion_matrix(ytest, adjpredicts)\n",
    "trecall = tcf[1, 1] / sum(tcf[1, :])\n",
    "tprecision = tcf[1, 1] / sum(tcf[:, 1])\n",
    "tfscore = 2 * (trecall * tprecision) / (trecall + tprecision)\n",
    "\n",
    "\n",
    "\n",
    "print('\\nBest fscore on train: '+ str(fscore))\n",
    "print('Precision on train: ' + str(precision))\n",
    "print('Recall on train: '+ str(recall))\n",
    "print('Threshold probability ' + str(thresh))\n",
    "\n",
    "print('\\n')\n",
    "print('\\nfscore on test: '+ str(tfscore))\n",
    "print('Precision on test: ' + str(tprecision))\n",
    "print('Recall on test: '+ str(trecall))\n",
    "print('Test confusion matrix: ')\n",
    "print(tcf)"
   ]
  },
  {
   "cell_type": "code",
   "execution_count": 52,
   "metadata": {
    "colab": {
     "base_uri": "https://localhost:8080/"
    },
    "id": "DSg7KdNKCHDo",
    "outputId": "80c0ddb0-2593-49e3-f7ff-0c9047d8433a"
   },
   "outputs": [
    {
     "name": "stdout",
     "output_type": "stream",
     "text": [
      "[06:41:01] WARNING: /workspace/src/objective/regression_obj.cu:152: reg:linear is now deprecated in favor of reg:squarederror.\n",
      "0.6600166042447732\n"
     ]
    }
   ],
   "source": [
    "# Boosting assessment\n",
    "\n",
    "model = XGBRegressor(n_estimators=500)\n",
    "model.fit(xtrain, ytrain, early_stopping_rounds=5, eval_set=[(xtest, ytest)],verbose=False)\n",
    "\n",
    "\n",
    "\n",
    "score = model.score(xtest, ytest)\n",
    "print(score)"
   ]
  },
  {
   "cell_type": "markdown",
   "metadata": {
    "id": "aB2sQC-be5Ke"
   },
   "source": [
    "Of the models tested, the random forest model had the best fscore on validation and will be used on the test data"
   ]
  },
  {
   "cell_type": "code",
   "execution_count": 55,
   "metadata": {
    "id": "-w7fOsyDDP6Q"
   },
   "outputs": [],
   "source": [
    "\n",
    "testset = df_test.drop('MSISDN', axis= 1)\n",
    "\n",
    "testpredicts = rfmodel.predict_proba(testset)\n",
    "adjpredicts = [testpredicts[i][1] > rfp for i in range(len(testpredicts))]\n",
    "\n",
    "answers = pd.DataFrame()\n",
    "answers['MSISDN'] = df_test['MSISDN']\n",
    "answers['Churn'] = adjpredicts\n",
    "answers['Churn'] = answers['Churn'].astype('int')\n",
    "answers.set_index('MSISDN', inplace = True)\n",
    "\n",
    "answers.to_csv('test_data_classification.csv')\n"
   ]
  }
 ],
 "metadata": {
  "colab": {
   "collapsed_sections": [],
   "name": "Assignment_code_updated.ipynb",
   "provenance": [],
   "toc_visible": true
  },
  "kernelspec": {
   "display_name": "Python 3",
   "language": "python",
   "name": "python3"
  },
  "language_info": {
   "codemirror_mode": {
    "name": "ipython",
    "version": 3
   },
   "file_extension": ".py",
   "mimetype": "text/x-python",
   "name": "python",
   "nbconvert_exporter": "python",
   "pygments_lexer": "ipython3",
   "version": "3.8.5"
  }
 },
 "nbformat": 4,
 "nbformat_minor": 1
}
